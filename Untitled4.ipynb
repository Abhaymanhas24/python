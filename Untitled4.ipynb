{
 "cells": [
  {
   "cell_type": "code",
   "execution_count": 120,
   "id": "b606ce10-7d98-4963-b5e8-b05ce01aa32a",
   "metadata": {},
   "outputs": [],
   "source": [
    "import numpy as np\n",
    "import matplotlib.pyplot as plt"
   ]
  },
  {
   "cell_type": "code",
   "execution_count": 5,
   "id": "6541747e-7859-4e80-8394-25eefd22e7ad",
   "metadata": {},
   "outputs": [],
   "source": [
    "a1=np.array([[1,2,3],[1,2,3],[1,2,3]])"
   ]
  },
  {
   "cell_type": "code",
   "execution_count": 9,
   "id": "3fd1df49-e9bd-4910-a4af-586129b9aef2",
   "metadata": {},
   "outputs": [
    {
     "data": {
      "text/plain": [
       "2"
      ]
     },
     "execution_count": 9,
     "metadata": {},
     "output_type": "execute_result"
    }
   ],
   "source": [
    "a1.ndim"
   ]
  },
  {
   "cell_type": "code",
   "execution_count": 19,
   "id": "c7f57aa6-1829-488e-90aa-64a781c746e2",
   "metadata": {},
   "outputs": [
    {
     "data": {
      "text/plain": [
       "array([3, 3, 3])"
      ]
     },
     "execution_count": 19,
     "metadata": {},
     "output_type": "execute_result"
    }
   ],
   "source": [
    "a1.take(indices=2, axis=1)"
   ]
  },
  {
   "cell_type": "code",
   "execution_count": 23,
   "id": "e5d64aac-e8c5-42d7-bde8-7a76ee58026b",
   "metadata": {},
   "outputs": [],
   "source": [
    "a3=np.array([[[1,2,3],[4,5,6]],[[7,8,9],[10,11,12]]])"
   ]
  },
  {
   "cell_type": "code",
   "execution_count": 25,
   "id": "bcf1ed8b-1fa8-4c37-b310-ce5668d2b679",
   "metadata": {},
   "outputs": [
    {
     "data": {
      "text/plain": [
       "3"
      ]
     },
     "execution_count": 25,
     "metadata": {},
     "output_type": "execute_result"
    }
   ],
   "source": [
    "a3.ndim"
   ]
  },
  {
   "cell_type": "code",
   "execution_count": 41,
   "id": "7a464eff-931f-48fd-9e7d-bf8a4588b706",
   "metadata": {},
   "outputs": [
    {
     "data": {
      "text/plain": [
       "11"
      ]
     },
     "execution_count": 41,
     "metadata": {},
     "output_type": "execute_result"
    }
   ],
   "source": [
    "a3[1,1,1]"
   ]
  },
  {
   "cell_type": "code",
   "execution_count": 63,
   "id": "89314afd-8be2-4173-be62-222082ef0532",
   "metadata": {},
   "outputs": [
    {
     "data": {
      "text/plain": [
       "array([[ 2,  5],\n",
       "       [ 8, 11]])"
      ]
     },
     "execution_count": 63,
     "metadata": {},
     "output_type": "execute_result"
    }
   ],
   "source": [
    "a3.take(1, axis=2)"
   ]
  },
  {
   "cell_type": "code",
   "execution_count": 39,
   "id": "f06c0fa9-f402-44d8-b27a-16f595966dfa",
   "metadata": {},
   "outputs": [
    {
     "data": {
      "text/plain": [
       "array([[[ 1,  2,  3],\n",
       "        [ 4,  5,  6]],\n",
       "\n",
       "       [[ 7,  8,  9],\n",
       "        [10, 11, 12]]])"
      ]
     },
     "execution_count": 39,
     "metadata": {},
     "output_type": "execute_result"
    }
   ],
   "source": [
    "a3"
   ]
  },
  {
   "cell_type": "code",
   "execution_count": 117,
   "id": "be360241-5452-472e-ad16-76d288e82637",
   "metadata": {},
   "outputs": [
    {
     "data": {
      "text/plain": [
       "array([[ 7,  8,  9],\n",
       "       [10, 11, 12]])"
      ]
     },
     "execution_count": 117,
     "metadata": {},
     "output_type": "execute_result"
    }
   ],
   "source": [
    "a3.take(1, axis=0)"
   ]
  },
  {
   "cell_type": "code",
   "execution_count": 111,
   "id": "c4692d3a-81fa-457a-a4fb-3abb190ef652",
   "metadata": {},
   "outputs": [],
   "source": [
    "df=np.genfromtxt('C:/Users/abhay.manhas/Downloads/StockData.csv',delimiter=',')"
   ]
  },
  {
   "cell_type": "code",
   "execution_count": 113,
   "id": "56d6ca7d-4404-4565-bb46-5655923ca740",
   "metadata": {},
   "outputs": [
    {
     "data": {
      "text/plain": [
       "array([[           nan,            nan,            nan, ...,\n",
       "                   nan,            nan,            nan],\n",
       "       [           nan,            nan, 1.29940000e+02, ...,\n",
       "        1.26870000e+02, 1.28710000e+02, 1.94067393e+06],\n",
       "       [           nan,            nan, 1.19510000e+02, ...,\n",
       "        1.17100000e+02, 1.29940000e+02, 7.57974109e+06],\n",
       "       ...,\n",
       "       [           nan,            nan, 2.74830000e+02, ...,\n",
       "        2.65000000e+02, 2.68790000e+02, 3.01078799e+06],\n",
       "       [           nan,            nan, 2.75010000e+02, ...,\n",
       "        2.71000000e+02, 2.74830000e+02, 8.24362870e+05],\n",
       "       [           nan,            nan, 2.79980000e+02, ...,\n",
       "        2.72100000e+02, 2.75010000e+02, 6.79358870e+05]])"
      ]
     },
     "execution_count": 113,
     "metadata": {},
     "output_type": "execute_result"
    }
   ],
   "source": [
    "df"
   ]
  },
  {
   "cell_type": "code",
   "execution_count": 124,
   "id": "a56e1b35-a11d-4452-a612-978db5a0cc4d",
   "metadata": {},
   "outputs": [
    {
     "data": {
      "image/png": "[encoded data removed]",
      "text/plain": [
       "<Figure size 800x600 with 2 Axes>"
      ]
     },
     "metadata": {},
     "output_type": "display_data"
    }
   ],
   "source": [
    "flat_a3 = a3.reshape(-1, a3.shape[-1])\n",
    "\n",
    "# Plotting\n",
    "plt.figure(figsize=(8, 6))\n",
    "plt.imshow(flat_a3, cmap='viridis', interpolation='nearest')\n",
    "plt.colorbar()\n",
    "plt.title('Flattened 2D Representation of 3D Array')\n",
    "plt.xlabel('Index')\n",
    "plt.ylabel('Element')\n",
    "plt.show()"
   ]
  },
  {
   "cell_type": "code",
   "execution_count": 136,
   "id": "d7ea0785-a734-459f-a629-1b81670ca407",
   "metadata": {},
   "outputs": [
    {
     "ename": "SyntaxError",
     "evalue": "invalid syntax (841613611.py, line 8)",
     "output_type": "error",
     "traceback": [
      "\u001b[1;36m  Cell \u001b[1;32mIn[136], line 8\u001b[1;36m\u001b[0m\n\u001b[1;33m    pd.DataFrame(data, index = [\"day1\":\"day3\"])\u001b[0m\n\u001b[1;37m                                      ^\u001b[0m\n\u001b[1;31mSyntaxError\u001b[0m\u001b[1;31m:\u001b[0m invalid syntax\n"
     ]
    }
   ],
   "source": [
    "import pandas as pd\n",
    "\n",
    "data = {\n",
    "  \"calories\": [420, 380, 390],\n",
    "  \"duration\": [50, 40, 45]\n",
    "}\n",
    "\n",
    "pd.DataFrame(data, index = [\"day1\":\"day3\"])\n",
    " "
   ]
  },
  {
   "cell_type": "code",
   "execution_count": null,
   "id": "bdc52573-036e-4de4-83c1-2ce01b3620b2",
   "metadata": {},
   "outputs": [],
   "source": []
  }
 ],
 "metadata": {
  "kernelspec": {
   "display_name": "Python 3 (ipykernel)",
   "language": "python",
   "name": "python3"
  },
  "language_info": {
   "codemirror_mode": {
    "name": "ipython",
    "version": 3
   },
   "file_extension": ".py",
   "mimetype": "text/x-python",
   "name": "python",
   "nbconvert_exporter": "python",
   "pygments_lexer": "ipython3",
   "version": "3.12.4"
  }
 },
 "nbformat": 4,
 "nbformat_minor": 5
}
