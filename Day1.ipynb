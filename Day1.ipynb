{
 "cells": [
  {
   "cell_type": "code",
   "execution_count": 1,
   "metadata": {},
   "outputs": [],
   "source": [
    "# The prefilled code contains a list. You need to write a program to read N integers, and print the elements at the index locations represented by those integers.\n",
    "\n",
    "# a=['Python', 'Java', 'Ruby', 'Move', 'C++', 'Go', 'C', 'R', 'Swift', 'perl']\n",
    "\n",
    "# Input:\n",
    "\n",
    "# The first line of input will contain a positive integer(N)\n",
    "\n",
    "# The following N lines will contain a positive number in each line.\n",
    "\n",
    "# Explanation:\n",
    "\n",
    "# If the given number is 2, read the inputs in the next two lines and print the elements at the given indexes. If the given two indexes are 1 and 4\n",
    "\n",
    "a= ['Python', 'Java', 'Ruby', 'Move', 'C++', 'Go', 'C', 'R', 'Swift', 'perl']\n"
   ]
  },
  {
   "cell_type": "code",
   "execution_count": 2,
   "metadata": {},
   "outputs": [],
   "source": [
    "# Write a program to read N inputs and print a list containing the first and last three inputs.\n",
    "a=list(map(int,input().split()))\n",
    "b=[]\n",
    "b.append(a[0])\n",
    "b.append(a[-3])\n",
    "b.append(a[-2])\n",
    "b.append(a[-1])\n",
    "\n",
    "print(b)"
   ]
  },
  {
   "cell_type": "code",
   "execution_count": null,
   "metadata": {},
   "outputs": [],
   "source": []
  },
  {
   "cell_type": "code",
   "execution_count": 1,
   "metadata": {},
   "outputs": [
    {
     "name": "stdout",
     "output_type": "stream",
     "text": [
      "[]\n"
     ]
    }
   ],
   "source": [
    "# Given a number N , write a program that read N numbers and prints a list of numbers that are divisible by 5.\n",
    "a=list(map(int,input().split()))\n",
    "b=[]\n",
    "for i in a:\n",
    "  if i%5==0:\n",
    "    b.append(i)\n",
    "print(b)\n"
   ]
  },
  {
   "cell_type": "code",
   "execution_count": 5,
   "metadata": {},
   "outputs": [
    {
     "name": "stdout",
     "output_type": "stream",
     "text": [
      "['apple', '78', '970.03', '5', '', '', '', '5']\n"
     ]
    }
   ],
   "source": [
    "# A List L is given in the prefilled code. Given a number N , write a program that reads N inputs and prints the list by adding a given N inputs at the end of the list L.\n",
    "\n",
    "L = [\"apple\", \"78\", \"970.03\"]\n",
    "N = int(input(\"how many values\"))\n",
    "for i in range(N):\n",
    "    new_element = input()\n",
    "    L.append(new_element)\n",
    "print(L)"
   ]
  },
  {
   "cell_type": "code",
   "execution_count": null,
   "metadata": {},
   "outputs": [],
   "source": [
    "# Create a list, Given a number N, write a program that prints the list by repeating the List N times.\n",
    "L = [\"apple\", \"78\", \"970.03\"]\n",
    "N = int(input(\"how many times: \"))\n",
    "for i in range(N):\n",
    "    print(L)"
   ]
  },
  {
   "cell_type": "code",
   "execution_count": null,
   "metadata": {},
   "outputs": [],
   "source": [
    "# Given N number, and an index, write a program to store the numbers in a list and print the number at the given index. For this problem, each input will contain T test cases. Each test case will give an index Ki as input, which should be considered to print the number\n",
    "\n",
    "# Input:\n",
    "\n",
    "# The first line of input is an integer N\n",
    "\n",
    "# The second line of input is an integer T representing the number of test cases\n",
    "\n",
    "# The Next lines contains integers representing the numbers of list.\n",
    "\n",
    "# The next T lines contains integer Ki for each line.\n",
    "\n"
   ]
  },
  {
   "cell_type": "code",
   "execution_count": null,
   "metadata": {},
   "outputs": [],
   "source": [
    "# Write a program that reads the students marks as input and prints PASS or FAIL. If the student score more than 50, print PASS.\n",
    "t=int(input())\n",
    "if  t>=50:\n",
    "  print(\"PASS\")\n",
    "else:\n",
    "  print(\"FAIL\")"
   ]
  },
  {
   "cell_type": "code",
   "execution_count": null,
   "metadata": {},
   "outputs": [],
   "source": [
    "# Given the length of the box, check if it is a Rectangle or Square\n",
    "l=int(input())\n",
    "b=int(input())\n",
    "if(l==b):\n",
    "  print(\"square\")\n",
    "else:\n",
    "  print(\"rectangle\")"
   ]
  },
  {
   "cell_type": "code",
   "execution_count": null,
   "metadata": {},
   "outputs": [],
   "source": [
    "# Write a Program that reads a temperature and checks if the given temperature is between 15 and 40. print 'Can go for a Walk' if it is between 15 and 40.\n",
    "n=int(input())\n",
    "if(n>=15 and n<=40):\n",
    "  print('Can go for a Walk')\n",
    "else:\n",
    "  print(\"Can't go for a Walk\")"
   ]
  },
  {
   "cell_type": "code",
   "execution_count": null,
   "metadata": {},
   "outputs": [],
   "source": [
    "# Write a Program that reads the scores A and B of two players and checks if one of the scores is greater than 300 and the sum of the scores is less than 500. Print 'Can Team Up' if one the scores is greater than 300 and the sum of the scores is less than 500, otherwise print 'Cannot Team Up'\n",
    "a=int(input())\n",
    "b=int(input())\n",
    "if(a>300 or b>300 and a+b<500):\n",
    "   print(\"Can Team Up\")\n",
    "else:\n",
    "    print(\"can't team up\")\n"
   ]
  },
  {
   "cell_type": "code",
   "execution_count": null,
   "metadata": {},
   "outputs": [],
   "source": [
    "# Give three angles of a triangle, write a program to check whether the triangle is valid or not.\n",
    "a=int(input())\n",
    "b=int(input())\n",
    "c=int(input())\n",
    "d=a+b+c\n",
    "if(d==180):\n",
    "  print(\"Valid traingle\")\n",
    "else:\n",
    "  print(\"not valid\")\n"
   ]
  },
  {
   "cell_type": "code",
   "execution_count": null,
   "metadata": {},
   "outputs": [],
   "source": [
    "# A company decided to give a bonus of 5% to an employee if his/her years of service is more than five years. Write a program that reads an employee's salary and years of service and decides whether the employee gets the bonus or not.\n",
    "a=float(input(\"salary\"))\n",
    "b=int(input(\"years\"))\n",
    "if(b>5):\n",
    "  print(\"you will get bonus\"+ str(a*1.05))\n",
    "else:\n",
    "  print(\"work more\")"
   ]
  },
  {
   "cell_type": "code",
   "execution_count": null,
   "metadata": {},
   "outputs": [],
   "source": [
    "# Write a program that reads a two-digit number N and checks if any of the given conditions is satisfied\n",
    "\n",
    "# The sum of digits of N is equal to 7\n",
    "\n",
    "# One of the digits of N is equal to 7\n",
    "\n",
    "# N is divisible by 7\n",
    "\n",
    "# Print \"Special Number if any of the given conditions is satisfied. Otherwise, print 'Normal Number'\n",
    "\n",
    "a=int(input())\n",
    "b=a%10\n",
    "c=int(a/10)\n",
    "\n",
    "if(b+c==7 or b==7 or a/7==0):\n",
    "  print(\"Special Number\")\n",
    "else:\n",
    "  print(\"Normal Number\")\n"
   ]
  },
  {
   "cell_type": "code",
   "execution_count": null,
   "metadata": {},
   "outputs": [],
   "source": [
    "# Write a Program that read a string S and checks if all the given conditions are satisfied\n",
    "\n",
    "# The first three characters of S is NXT\n",
    "\n",
    "# The remaining Characters of S contain a Number. Number is divisible by 2 or 7\n",
    "\n",
    "# Print 'Special String' f any of the given conditions is satisfied. Otherwise, print 'Not a Special String'\n",
    "\n",
    "s=input()\n",
    "if(s[:3]=='NXT' or int(s[4:])%2==0 or int(s[4:])%7==0):\n",
    "  print(\"Special String\")\n",
    "else:\n",
    "  print(\"Not a Special String\")\n",
    "\n"
   ]
  },
  {
   "cell_type": "code",
   "execution_count": 9,
   "metadata": {},
   "outputs": [
    {
     "name": "stdout",
     "output_type": "stream",
     "text": [
      "not special\n"
     ]
    }
   ],
   "source": [
    "# Write a Program that read a number N and checks if the last digit of N is equal to the last digit of the square of N\n",
    "N = int(input())\n",
    "\n",
    "square = N * N\n",
    "\n",
    "last_digit_N = str(N)[-1]\n",
    "last_digit_square = str(square)[-1]\n",
    "\n",
    "if last_digit_N == last_digit_square:\n",
    "    print(\"special number\")\n",
    "else:\n",
    "    print(\"not special\")\n"
   ]
  },
  {
   "cell_type": "code",
   "execution_count": 11,
   "metadata": {},
   "outputs": [
    {
     "name": "stdout",
     "output_type": "stream",
     "text": [
      "The sum of squares of 1 and 1 is 2, which is less than 60.\n"
     ]
    }
   ],
   "source": [
    "# Write a program that reads two numbers A and B, and checks if sum of squares of A and B is greater than or equals to 60. \n",
    "A = int(input(\"Enter the value of A: \"))\n",
    "B = int(input(\"Enter the value of B: \"))\n",
    "    \n",
    "    \n",
    "sum_of_squares = A**2 + B**2\n",
    "    \n",
    "\n",
    "if sum_of_squares >= 60:\n",
    "    print(f\"The sum of squares of {A} and {B} is {sum_of_squares}, which is greater than or equal to 60.\")\n",
    "else:\n",
    "    print(f\"The sum of squares of {A} and {B} is {sum_of_squares}, which is less than 60.\")"
   ]
  },
  {
   "cell_type": "code",
   "execution_count": null,
   "metadata": {},
   "outputs": [],
   "source": []
  }
 ],
 "metadata": {
  "kernelspec": {
   "display_name": "Python 3",
   "language": "python",
   "name": "python3"
  },
  "language_info": {
   "codemirror_mode": {
    "name": "ipython",
    "version": 3
   },
   "file_extension": ".py",
   "mimetype": "text/x-python",
   "name": "python",
   "nbconvert_exporter": "python",
   "pygments_lexer": "ipython3",
   "version": "3.12.3"
  }
 },
 "nbformat": 4,
 "nbformat_minor": 2
}
