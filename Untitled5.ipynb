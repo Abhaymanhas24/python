{
 "cells": [
  {
   "cell_type": "code",
   "execution_count": 53,
   "id": "a75fa455-fbfc-4387-af95-4f6b2a0c2f56",
   "metadata": {},
   "outputs": [
    {
     "name": "stdout",
     "output_type": "stream",
     "text": [
      "[1, 2]\n"
     ]
    }
   ],
   "source": [
    "def m1(*argv):\n",
    "    a1=[]\n",
    "    for i in argv:\n",
    "        a1.append(i)\n",
    "        \n",
    "    print(a1)\n",
    "\n",
    "\n",
    "m1(1,2)"
   ]
  },
  {
   "cell_type": "code",
   "execution_count": 57,
   "id": "ac0cdf80-4fb3-4591-9c5c-5868888861c5",
   "metadata": {},
   "outputs": [
    {
     "name": "stdout",
     "output_type": "stream",
     "text": [
      "a 1\n",
      "b 2\n",
      "c 3\n",
      "d 4\n"
     ]
    }
   ],
   "source": [
    "def m2(**argv):\n",
    "    for key,value in argv.items():\n",
    "        print(key,value)\n",
    "m2(a=1,b=2,c=3,d=4)"
   ]
  },
  {
   "cell_type": "code",
   "execution_count": 51,
   "id": "366ee4b8-a39f-4ad1-b46e-31c7ca4109c8",
   "metadata": {},
   "outputs": [
    {
     "name": "stdout",
     "output_type": "stream",
     "text": [
      "[1, 2]\n"
     ]
    }
   ],
   "source": [
    "def m1(*argv):\n",
    "    a1=[]\n",
    "    for i in argv:\n",
    "        a1.append(i)\n",
    "\n",
    "    print(a1)\n",
    "\n",
    "m1(1,2)"
   ]
  },
  {
   "cell_type": "code",
   "execution_count": 33,
   "id": "a6032307-352b-47f2-8312-6f113aa72443",
   "metadata": {},
   "outputs": [],
   "source": [
    "import re"
   ]
  },
  {
   "cell_type": "code",
   "execution_count": 41,
   "id": "9805bc7f-ca10-44f0-b377-26b639f07890",
   "metadata": {},
   "outputs": [],
   "source": [
    "full_names = [\n",
    "    \"John Smith lamda\",\n",
    "    \"Michael Johnson\",\n",
    "    \"William Brown Suuuu\",\n",
    "    \"James Davis\",\n",
    "    \"Charles Wilson Kholi\",\n",
    "    \"Joseph Martinez\",\n",
    "    \"Thomas Anderson\",\n",
    "    \"Christopher Moore Steyn\",\n",
    "    \"Daniel Lee\",\n",
    "    \"Matthew Taylor\"\n",
    "]"
   ]
  },
  {
   "cell_type": "code",
   "execution_count": 45,
   "id": "1a7c7f8c-4788-49f4-9a7c-68e9f9a44436",
   "metadata": {},
   "outputs": [
    {
     "name": "stdout",
     "output_type": "stream",
     "text": [
      "John Smith lamda\n",
      "William Brown Suuuu\n",
      "Charles Wilson Kholi\n",
      "Christopher Moore Steyn\n"
     ]
    },
    {
     "name": "stderr",
     "output_type": "stream",
     "text": [
      "<>:1: SyntaxWarning: invalid escape sequence '\\w'\n",
      "<>:1: SyntaxWarning: invalid escape sequence '\\w'\n",
      "C:\\Users\\abhay.manhas\\AppData\\Local\\Temp\\ipykernel_19820\\3497549722.py:1: SyntaxWarning: invalid escape sequence '\\w'\n",
      "  regex ='^\\w+ \\w+ \\w+$'\n"
     ]
    }
   ],
   "source": [
    "regex ='^\\w+ \\w+ \\w+$'\n",
    "for i in full_names:\n",
    "    out=re.search(regex,i)\n",
    "    if out:\n",
    "        print(i)"
   ]
  },
  {
   "cell_type": "code",
   "execution_count": null,
   "id": "5cdc74c4-90be-4ac5-ac60-ce2d587a898a",
   "metadata": {},
   "outputs": [],
   "source": []
  }
 ],
 "metadata": {
  "kernelspec": {
   "display_name": "Python 3 (ipykernel)",
   "language": "python",
   "name": "python3"
  },
  "language_info": {
   "codemirror_mode": {
    "name": "ipython",
    "version": 3
   },
   "file_extension": ".py",
   "mimetype": "text/x-python",
   "name": "python",
   "nbconvert_exporter": "python",
   "pygments_lexer": "ipython3",
   "version": "3.12.4"
  }
 },
 "nbformat": 4,
 "nbformat_minor": 5
}
