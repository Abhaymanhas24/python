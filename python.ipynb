{
 "cells": [
  {
   "cell_type": "code",
   "execution_count": 13,
   "metadata": {},
   "outputs": [
    {
     "name": "stdout",
     "output_type": "stream",
     "text": [
      "1 6 7\n"
     ]
    }
   ],
   "source": [
    "a=[1,2,3,4,5,6,7]\n",
    "x,*c,b,d=a\n",
    "print(x,b,d)\n"
   ]
  },
  {
   "cell_type": "code",
   "execution_count": 1,
   "metadata": {},
   "outputs": [
    {
     "name": "stdout",
     "output_type": "stream",
     "text": [
      "[3, 9, 12, 19]\n"
     ]
    }
   ],
   "source": [
    "# from itertools import accumulate\n",
    "\n",
    "# x1 = [3, 6, 3, 7]\n",
    "# running_totals = list(accumulate(x1))\n",
    "\n",
    "# print(running_totals)\n"
   ]
  },
  {
   "cell_type": "code",
   "execution_count": 2,
   "metadata": {},
   "outputs": [
    {
     "name": "stdout",
     "output_type": "stream",
     "text": [
      "{102: 'bcd'}\n"
     ]
    }
   ],
   "source": [
    "empno = [101, 102, 103, 104]\n",
    "ename = [\"abc\", \"bcd\", \"cde\", \"def\"]\n",
    "emp = dict(zip(empno, ename))\n",
    "\n",
    "filtered_keys = list(filter(lambda key: emp[key].startswith('b'), emp.keys()))\n",
    "\n",
    "filtered_emp = {key: emp[key] for key in filtered_keys}\n",
    "\n",
    "print(filtered_emp)\n",
    "\n"
   ]
  },
  {
   "cell_type": "code",
   "execution_count": 7,
   "metadata": {},
   "outputs": [
    {
     "name": "stdout",
     "output_type": "stream",
     "text": [
      "{102: 'bcd', 103: 'cde', 104: 'def'}\n"
     ]
    }
   ],
   "source": [
    "empno=[101,102,103,104]\n",
    "ename=[\"abc\",\"bcd\",\"cde\",\"def\"]\n",
    "emp=dict(zip(empno,ename))\n",
    "print(dict(filter(lambda x:x[0] >=102,emp.items())))"
   ]
  },
  {
   "cell_type": "code",
   "execution_count": 1,
   "metadata": {},
   "outputs": [
    {
     "ename": "TypeError",
     "evalue": "'dict' object is not callable",
     "output_type": "error",
     "traceback": [
      "\u001b[1;31m---------------------------------------------------------------------------\u001b[0m",
      "\u001b[1;31mTypeError\u001b[0m                                 Traceback (most recent call last)",
      "Cell \u001b[1;32mIn[1], line 4\u001b[0m\n\u001b[0;32m      1\u001b[0m \u001b[38;5;28mdict\u001b[39m\u001b[38;5;241m=\u001b[39m{\n\u001b[0;32m      2\u001b[0m     \u001b[38;5;241m4000\u001b[39m:\u001b[38;5;124m\"\u001b[39m\u001b[38;5;124mabhay\u001b[39m\u001b[38;5;124m\"\u001b[39m,\u001b[38;5;241m3000\u001b[39m:\u001b[38;5;124m\"\u001b[39m\u001b[38;5;124mhello\u001b[39m\u001b[38;5;124m\"\u001b[39m,\u001b[38;5;241m6000\u001b[39m:\u001b[38;5;124m\"\u001b[39m\u001b[38;5;124mno\u001b[39m\u001b[38;5;124m\"\u001b[39m,\u001b[38;5;241m8000\u001b[39m:\u001b[38;5;124m\"\u001b[39m\u001b[38;5;124mok\u001b[39m\u001b[38;5;124m\"\u001b[39m\n\u001b[0;32m      3\u001b[0m }\n\u001b[1;32m----> 4\u001b[0m \u001b[38;5;28mprint\u001b[39m(\u001b[38;5;28;43mdict\u001b[39;49m\u001b[43m(\u001b[49m\u001b[38;5;28;43mfilter\u001b[39;49m\u001b[43m(\u001b[49m\u001b[38;5;28;43;01mlambda\u001b[39;49;00m\u001b[43m \u001b[49m\u001b[43mx\u001b[49m\u001b[43m:\u001b[49m\u001b[43mx\u001b[49m\u001b[43m[\u001b[49m\u001b[38;5;241;43m0\u001b[39;49m\u001b[43m]\u001b[49m\u001b[38;5;241;43m>\u001b[39;49m\u001b[38;5;241;43m=\u001b[39;49m\u001b[38;5;241;43m4000\u001b[39;49m\u001b[43m,\u001b[49m\u001b[38;5;28;43mdict\u001b[39;49m\u001b[38;5;241;43m.\u001b[39;49m\u001b[43mitems\u001b[49m\u001b[43m(\u001b[49m\u001b[43m)\u001b[49m\u001b[43m)\u001b[49m\u001b[43m)\u001b[49m)\n",
      "\u001b[1;31mTypeError\u001b[0m: 'dict' object is not callable"
     ]
    }
   ],
   "source": [
    "dict={\n",
    "    4000:\"abhay\",3000:\"hello\",6000:\"no\",8000:\"ok\"\n",
    "}\n",
    "print(dict(filter(lambda x:x[0] >=4000,dict.items())))"
   ]
  },
  {
   "cell_type": "code",
   "execution_count": 14,
   "metadata": {},
   "outputs": [
    {
     "name": "stdout",
     "output_type": "stream",
     "text": [
      "['Infinite Jest', 'A Brief History of Time', 'The Catcher in the Rye', 'Sapiens', 'Clean Code']\n",
      "<class 'list'>\n"
     ]
    }
   ],
   "source": [
    "books = [\n",
    "    {\"title\": \"Infinite Jest\", \"rating\": 4.5, \"genre\": \"Fiction\"},\n",
    "    {\"title\": \"A Brief History of Time\", \"rating\": 4.8, \"genre\": \"Science\"},\n",
    "    {\"title\": \"The Catcher in the Rye\", \"rating\": 3.9, \"genre\": \"Fiction\"},\n",
    "    {\"title\": \"Sapiens\", \"rating\": 4.9, \"genre\": \"History\"},\n",
    "    {\"title\": \"Clean Code\", \"rating\": 4.7, \"genre\": \"Technology\"},\n",
    "]\n",
    "\n",
    "highly_rated_books = [i[\"title\"] for i in books if i[\"rating\"] >= 3.7]\n",
    "print(highly_rated_books)\n",
    "print(type(highly_rated_books))"
   ]
  },
  {
   "cell_type": "code",
   "execution_count": null,
   "metadata": {},
   "outputs": [],
   "source": [
    "roducts = [\n",
    "  { id: 1, name: \"Laptop\", price: 1000 },\n",
    "  { id: 2, name: \"Phone\", price: 500 },\n",
    "  { id: 3, name: \"Tablet\", price: 700 },\n",
    "]"
   ]
  }
 ],
 "metadata": {
  "kernelspec": {
   "display_name": "Python 3",
   "language": "python",
   "name": "python3"
  },
  "language_info": {
   "codemirror_mode": {
    "name": "ipython",
    "version": 3
   },
   "file_extension": ".py",
   "mimetype": "text/x-python",
   "name": "python",
   "nbconvert_exporter": "python",
   "pygments_lexer": "ipython3",
   "version": "3.12.3"
  }
 },
 "nbformat": 4,
 "nbformat_minor": 2
}
