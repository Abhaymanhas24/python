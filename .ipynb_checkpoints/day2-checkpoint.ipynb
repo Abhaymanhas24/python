{
 "cells": [
  {
   "cell_type": "markdown",
   "metadata": {},
   "source": [
    "# "
   ]
  },
  {
   "cell_type": "code",
   "execution_count": 4,
   "metadata": {},
   "outputs": [
    {
     "data": {
      "text/plain": [
       "9"
      ]
     },
     "execution_count": 4,
     "metadata": {},
     "output_type": "execute_result"
    }
   ],
   "source": [
    "# Write a program with a function that the function will multiply the number N with three. \n",
    "def multipleofthree(N):\n",
    "    return N*3\n",
    "    \n",
    "N=int(input())\n",
    "multipleofthree(N)"
   ]
  },
  {
   "cell_type": "code",
   "execution_count": 3,
   "metadata": {},
   "outputs": [
    {
     "name": "stdout",
     "output_type": "stream",
     "text": [
      "7 is divisible by 7\n"
     ]
    }
   ],
   "source": [
    "# Write a program with a function that the function will check if the number N is divisible by 7. \n",
    "def divisible_by_seven(N):\n",
    "    if N % 7 == 0:\n",
    "        print(f\"{N} is divisible by 7\")\n",
    "    else:\n",
    "        print(f\"{N} is not divisible by 7\")\n",
    "\n",
    "N=int(input())\n",
    "divisible_by_seven(N)"
   ]
  },
  {
   "cell_type": "code",
   "execution_count": 3,
   "metadata": {},
   "outputs": [
    {
     "name": "stdout",
     "output_type": "stream",
     "text": [
      "NO\n"
     ]
    }
   ],
   "source": [
    "# Write a function that takes a number N as an argument. \n",
    "# Write a program that checks if N is between 200 and 500. \n",
    "# Print Yes if N is between 200 and 500. Otherwise, print No. \n",
    "def betweentwonumber(N):\n",
    "    if N <500 and N>200 :\n",
    "        print(\"YES\")\n",
    "    else:\n",
    "        print(\"NO\")\n",
    "N=int(input())\n",
    "betweentwonumber(N)"
   ]
  },
  {
   "cell_type": "code",
   "execution_count": 6,
   "metadata": {},
   "outputs": [
    {
     "name": "stdout",
     "output_type": "stream",
     "text": [
      "discount for 10000 is 2000.0\n"
     ]
    }
   ],
   "source": [
    "# Write a function with the name get_discount that takes the bill amount as an argument. \n",
    "# If the bill amount is less than 500, the discount should be \"5%\". \n",
    "# If the bill amount is greater than or equal to 500 and less than 2500, the discount should be \"10%\" \n",
    "# If the bill amount is greater than or equal to 2500, the discount should be \"20%\" \n",
    "def get_discount(bill):\n",
    "    if(bill<500):\n",
    "        print(f\"discount for {bill} is \" +str(bill*1.05 - bill))\n",
    "    elif(bill>=500 and bill<=2500):\n",
    "        print(f\"discount for {bill} is \" +str(bill*1.10 - bill))\n",
    "    else:\n",
    "        print(f\"discount for {bill} is \" +str(bill*1.20 - bill ))\n",
    "\n",
    "bill=int(input())\n",
    "get_discount(bill)"
   ]
  },
  {
   "cell_type": "code",
   "execution_count": 8,
   "metadata": {},
   "outputs": [
    {
     "name": "stdout",
     "output_type": "stream",
     "text": [
      "The square value is 100\n",
      "The work has been done successfully\n"
     ]
    }
   ],
   "source": [
    "# Handle exception in number \n",
    "# Problem statement:  \n",
    "# Get the input String from user and parse it to integer, if it is not a number it will throw  \n",
    "# number format exception Catch it and print \"Entered input is not a valid format for an integer.\" \n",
    "# or else print the square of that number. (Refer Sample Input and Output).  \n",
    "# Sample input and output 1:  \n",
    "# Enter an integer: 12 \n",
    "# The square value is 144 \n",
    "# The work has been done successfully \n",
    "# Sample input and output 2: \n",
    "# Enter an integer: Java \n",
    "# Entered input is not a valid format for an integer. \n",
    " \n",
    "def process_input():\n",
    "    try:\n",
    "        usi=input()\n",
    "        num=int(usi)\n",
    "        square=num**2\n",
    "        print(f\"the square is {square}\")\n",
    "    except ValueError:\n",
    "           print(\"Entered value is not integer\")\n",
    "process_input()\n"
   ]
  },
  {
   "cell_type": "code",
   "execution_count": 24,
   "metadata": {},
   "outputs": [
    {
     "name": "stdout",
     "output_type": "stream",
     "text": [
      "Enter the number of elements in the array  10\n",
      "Enter the elements in the array  20\n",
      "Enter the elements in the array  j\n"
     ]
    },
    {
     "name": "stdout",
     "output_type": "stream",
     "text": [
      "Invalid input. Please enter a valid integer.\n"
     ]
    }
   ],
   "source": [
    "# Write a program that takes as input the size of the array and the elements in the array.\n",
    "# The program then asks the user to enter a particular index and prints the element at that index.\n",
    "# Index  starts from zero.\n",
    "#  This program may generate Array Index Out Of Bounds Exception  or NumberFormatException.\n",
    "#  Use exception handling mechanisms to handle this exception.\n",
    "# Sample Input and Output 1:\n",
    "# Enter the number of elements in the array\n",
    "# 2\n",
    "# Enter the elements in the array\n",
    "# 50\n",
    "# 80\n",
    "# Enter the index of the array element you want to access\n",
    "# 1\n",
    "# The array element at index 1 = 80\n",
    "# The array element successfully accessed\n",
    "#  Sample Input and Output 2:\n",
    "# Enter the number of elements in the array\n",
    "# 2\n",
    "# Enter the elements in the array\n",
    "# 50\n",
    "# 80\n",
    "# Enter the index of the array element you want to access\n",
    "# 9\n",
    "# java.lang.ArrayIndexOutOfBoundsException\n",
    "# Sample Input and Output 3:\n",
    "# Enter the number of elements in the array\n",
    "# 2\n",
    "# Enter the elements in the array\n",
    "# 30\n",
    "# j\n",
    "# java.lang.NumberFormatException\n",
    "class NumberFormatException:\n",
    "    try:\n",
    "        number = int(input(\"Enter the number of elements in the array \"))\n",
    "        array = []\n",
    "        for i in range(number):\n",
    "             l1 = int(input(\"Enter the elements in the array \"))\n",
    "             array.append(l1)\n",
    "        index = int(input(\"Enter the index of the array element you want to access\"))\n",
    "        print(array[index])\n",
    "    except ValueError:\n",
    "            print(\"Invalid input. Please enter a valid integer.\")\n",
    "        \n",
    "    except IndexError:\n",
    "            print(\"Index out of range. Please enter a valid index.\")"
   ]
  },
  {
   "cell_type": "code",
   "execution_count": null,
   "metadata": {},
   "outputs": [],
   "source": [
    "# Write a Program to take care of Number Format Exception if user enters values other than  \n",
    "# integer for calculating average marks of 2 students. The name of the students and marks  \n",
    "# in 3 subjects are taken from the user while executing the program. \n",
    "# In the same Program write your own Exception classes to take care of Negative values and  \n",
    "# values out of range (i.e. other than in the range of 0-100) \n",
    "class Negative_values(Exception):\n",
    "    pass\n",
    "class Out_of_Range(Exception):\n",
    "    pass\n",
    "class Calculate_avg:\n",
    "      try:\n",
    "         name_student1=input(\"name of person 1\")\n",
    "         marks_student1=[]\n",
    "         for i in range(3):\n",
    "             sub=int(input(f\"enter marks{i+1}\"))\n",
    "             if sub<0:\n",
    "                 raise Negative_values(f\"{sub} is Negative value\")\n",
    "             if sub<0 or sub>100:\n",
    "                 raise Out_of_Range(f\"{sub} is  Out of range\") \n",
    "             marks_student1.append(sub)\n",
    "\n",
    "\n",
    "         name_student2=input(\"name of person 2\")\n",
    "         marks_student2=[]\n",
    "         for i in range(3):\n",
    "             sub=int(input(f\"enter marks{i+1}\"))\n",
    "             if sub<0:\n",
    "                 raise Negative_values(f\"{sub} is Negative value\")\n",
    "             if sub<0 or sub>100:\n",
    "                 raise Out_of_Range(f\"{sub} is  Out of range\") \n",
    "             marks_student2.append(sub)\n",
    "\n",
    "         avg_stu1=sum(marks_student1)/3\n",
    "         avg_stu1=sum(marks_student1)/3\n",
    "         print(f\"Average marks of {name_student1} is {avg_stu1}\")\n",
    "         print(f\"Average marks of {name_student2} is {avg_stu2}\")\n",
    "      \n",
    "      except ValueError:\n",
    "          print(\"NumberFormatException: Marks should be integers\")\n",
    "\n",
    "      except Negative_values as e:\n",
    "            print(f\"Negative_values Exception: {e}\")\n",
    "        \n",
    "      except Out_of_Range as e:\n",
    "            print(f\"Out_of_Range Exception: {e}\")\n"
   ]
  },
  {
   "cell_type": "code",
   "execution_count": 65,
   "metadata": {},
   "outputs": [
    {
     "name": "stdout",
     "output_type": "stream",
     "text": [
      "5\n"
     ]
    }
   ],
   "source": [
    "l1=[1,2,3,4,5]\n",
    "avg=len(l1)\n",
    "print(avg)"
   ]
  },
  {
   "cell_type": "code",
   "execution_count": null,
   "metadata": {},
   "outputs": [],
   "source": []
  }
 ],
 "metadata": {
  "kernelspec": {
   "display_name": "Python 3 (ipykernel)",
   "language": "python",
   "name": "python3"
  },
  "language_info": {
   "codemirror_mode": {
    "name": "ipython",
    "version": 3
   },
   "file_extension": ".py",
   "mimetype": "text/x-python",
   "name": "python",
   "nbconvert_exporter": "python",
   "pygments_lexer": "ipython3",
   "version": "3.12.4"
  }
 },
 "nbformat": 4,
 "nbformat_minor": 4
}
