{
 "cells": [
  {
   "cell_type": "code",
   "execution_count": 2,
   "id": "66686276-ab0b-4702-8b45-fc4917fac045",
   "metadata": {},
   "outputs": [],
   "source": [
    "import pandas as pd\n",
    "import numpy as np"
   ]
  },
  {
   "cell_type": "code",
   "execution_count": null,
   "id": "ea5bd116-0bfd-4564-9bf1-fbdda6c7c2a8",
   "metadata": {},
   "outputs": [],
   "source": []
  },
  {
   "cell_type": "code",
   "execution_count": 3,
   "id": "8eec86ae-3229-4260-98f6-71eecb9c4626",
   "metadata": {},
   "outputs": [],
   "source": [
    "df=pd.read_csv('C:/Users/abhay.manhas/Downloads/Flavor_Rating.csv')"
   ]
  },
  {
   "cell_type": "code",
   "execution_count": 4,
   "id": "9e71c247-48a5-4b34-a58e-b20db39d7bd9",
   "metadata": {},
   "outputs": [
    {
     "data": {
      "text/html": [
       "<div>\n",
       "<style scoped>\n",
       "    .dataframe tbody tr th:only-of-type {\n",
       "        vertical-align: middle;\n",
       "    }\n",
       "\n",
       "    .dataframe tbody tr th {\n",
       "        vertical-align: top;\n",
       "    }\n",
       "\n",
       "    .dataframe thead th {\n",
       "        text-align: right;\n",
       "    }\n",
       "</style>\n",
       "<table border=\"1\" class=\"dataframe\">\n",
       "  <thead>\n",
       "    <tr style=\"text-align: right;\">\n",
       "      <th></th>\n",
       "      <th>Flavor Rating</th>\n",
       "      <th>Texture Rating</th>\n",
       "      <th>Total Rating</th>\n",
       "    </tr>\n",
       "    <tr>\n",
       "      <th>Liked</th>\n",
       "      <th></th>\n",
       "      <th></th>\n",
       "      <th></th>\n",
       "    </tr>\n",
       "  </thead>\n",
       "  <tbody>\n",
       "    <tr>\n",
       "      <th>No</th>\n",
       "      <td>3.6</td>\n",
       "      <td>4.466667</td>\n",
       "      <td>8.066667</td>\n",
       "    </tr>\n",
       "    <tr>\n",
       "      <th>Yes</th>\n",
       "      <td>8.1</td>\n",
       "      <td>7.033333</td>\n",
       "      <td>15.166667</td>\n",
       "    </tr>\n",
       "  </tbody>\n",
       "</table>\n",
       "</div>"
      ],
      "text/plain": [
       "       Flavor Rating  Texture Rating  Total Rating\n",
       "Liked                                             \n",
       "No               3.6        4.466667      8.066667\n",
       "Yes              8.1        7.033333     15.166667"
      ]
     },
     "execution_count": 4,
     "metadata": {},
     "output_type": "execute_result"
    }
   ],
   "source": [
    "df.groupby('Liked')[['Flavor Rating', 'Texture Rating', 'Total Rating']].mean()"
   ]
  },
  {
   "cell_type": "code",
   "execution_count": 5,
   "id": "95de04b3-f0af-4413-9939-3accfb499f8e",
   "metadata": {},
   "outputs": [
    {
     "data": {
      "text/html": [
       "<div>\n",
       "<style scoped>\n",
       "    .dataframe tbody tr th:only-of-type {\n",
       "        vertical-align: middle;\n",
       "    }\n",
       "\n",
       "    .dataframe tbody tr th {\n",
       "        vertical-align: top;\n",
       "    }\n",
       "\n",
       "    .dataframe thead tr th {\n",
       "        text-align: left;\n",
       "    }\n",
       "\n",
       "    .dataframe thead tr:last-of-type th {\n",
       "        text-align: right;\n",
       "    }\n",
       "</style>\n",
       "<table border=\"1\" class=\"dataframe\">\n",
       "  <thead>\n",
       "    <tr>\n",
       "      <th></th>\n",
       "      <th colspan=\"3\" halign=\"left\">Flavor Rating</th>\n",
       "      <th colspan=\"3\" halign=\"left\">Texture Rating</th>\n",
       "      <th colspan=\"3\" halign=\"left\">Total Rating</th>\n",
       "    </tr>\n",
       "    <tr>\n",
       "      <th></th>\n",
       "      <th>mean</th>\n",
       "      <th>min</th>\n",
       "      <th>max</th>\n",
       "      <th>mean</th>\n",
       "      <th>min</th>\n",
       "      <th>max</th>\n",
       "      <th>mean</th>\n",
       "      <th>min</th>\n",
       "      <th>max</th>\n",
       "    </tr>\n",
       "    <tr>\n",
       "      <th>Base Flavor</th>\n",
       "      <th></th>\n",
       "      <th></th>\n",
       "      <th></th>\n",
       "      <th></th>\n",
       "      <th></th>\n",
       "      <th></th>\n",
       "      <th></th>\n",
       "      <th></th>\n",
       "      <th></th>\n",
       "    </tr>\n",
       "  </thead>\n",
       "  <tbody>\n",
       "    <tr>\n",
       "      <th>Chocolate</th>\n",
       "      <td>8.4</td>\n",
       "      <td>8.2</td>\n",
       "      <td>8.8</td>\n",
       "      <td>7.233333</td>\n",
       "      <td>7.0</td>\n",
       "      <td>7.6</td>\n",
       "      <td>15.70</td>\n",
       "      <td>15.2</td>\n",
       "      <td>16.6</td>\n",
       "    </tr>\n",
       "    <tr>\n",
       "      <th>Vanilla</th>\n",
       "      <td>5.7</td>\n",
       "      <td>2.3</td>\n",
       "      <td>10.0</td>\n",
       "      <td>5.650000</td>\n",
       "      <td>3.4</td>\n",
       "      <td>8.0</td>\n",
       "      <td>11.35</td>\n",
       "      <td>5.7</td>\n",
       "      <td>18.0</td>\n",
       "    </tr>\n",
       "  </tbody>\n",
       "</table>\n",
       "</div>"
      ],
      "text/plain": [
       "            Flavor Rating            Texture Rating           Total Rating  \\\n",
       "                     mean  min   max           mean  min  max         mean   \n",
       "Base Flavor                                                                  \n",
       "Chocolate             8.4  8.2   8.8       7.233333  7.0  7.6        15.70   \n",
       "Vanilla               5.7  2.3  10.0       5.650000  3.4  8.0        11.35   \n",
       "\n",
       "                         \n",
       "              min   max  \n",
       "Base Flavor              \n",
       "Chocolate    15.2  16.6  \n",
       "Vanilla       5.7  18.0  "
      ]
     },
     "execution_count": 5,
     "metadata": {},
     "output_type": "execute_result"
    }
   ],
   "source": [
    "df.groupby(['Base Flavor']).agg({'Flavor Rating':['mean','min','max'],'Texture Rating':['mean','min','max'],'Total Rating':['mean','min','max']})"
   ]
  },
  {
   "cell_type": "code",
   "execution_count": null,
   "id": "bf2980e6-4b5f-407b-9a3d-ed991597ae76",
   "metadata": {},
   "outputs": [],
   "source": []
  },
  {
   "cell_type": "code",
   "execution_count": null,
   "id": "5443aa06-44d2-4378-b3df-8146c8555efd",
   "metadata": {},
   "outputs": [],
   "source": []
  },
  {
   "cell_type": "code",
   "execution_count": null,
   "id": "e51d43a2-6fa0-4088-aa93-5ef8d71aa961",
   "metadata": {},
   "outputs": [],
   "source": []
  },
  {
   "cell_type": "code",
   "execution_count": null,
   "id": "25abfbf5-cc0d-470f-b8da-f99cc70ba0c7",
   "metadata": {},
   "outputs": [],
   "source": []
  }
 ],
 "metadata": {
  "kernelspec": {
   "display_name": "Python 3 (ipykernel)",
   "language": "python",
   "name": "python3"
  },
  "language_info": {
   "codemirror_mode": {
    "name": "ipython",
    "version": 3
   },
   "file_extension": ".py",
   "mimetype": "text/x-python",
   "name": "python",
   "nbconvert_exporter": "python",
   "pygments_lexer": "ipython3",
   "version": "3.12.4"
  }
 },
 "nbformat": 4,
 "nbformat_minor": 5
}
